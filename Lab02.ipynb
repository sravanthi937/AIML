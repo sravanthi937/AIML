{
 "cells": [
  {
   "cell_type": "markdown",
   "id": "8a6a4338-2f4d-408f-aa29-852a90614b44",
   "metadata": {},
   "source": [
    "##Lab-02::Implement AI search\n",
    "![bfs1.png](attachment:bsf1.png)"
   ]
  },
  {
   "cell_type": "code",
   "execution_count": 7,
   "id": "bb9ada78-dda2-4863-9b33-9be3074da1ad",
   "metadata": {},
   "outputs": [
    {
     "name": "stdout",
     "output_type": "stream",
     "text": [
      "The adjacency list representing the graph is:\n",
      "{0: [1, 2, 3], 1: [0, 2], 2: [0, 3, 5], 3: [0, 2, 4], 4: [3, 5, 7], 5: [4, 6, 7], 6: [5, 7], 7: [4, 5, 6], 8: []}\n",
      "BFS traversal of graph with source 0 is:\n",
      "0->1->2->3->5->4->6->7->"
     ]
    }
   ],
   "source": [
    "import numpy as np\n",
    "from queue import Queue \n",
    "graph={0:[1,2,3],1:[0,2],2:[0,3,5],3:[0,2,4],4:[3,5,7],5:[4,6,7],6:[5,7],7:[4,5,6],8:[]}\n",
    "print(\"The adjacency list representing the graph is:\")\n",
    "print(graph)\n",
    "def bfs(graph,source):\n",
    "    Q=Queue()\n",
    "    visited_vertices=set()\n",
    "    Q.put(source)\n",
    "    visited_vertices.update({source})\n",
    "    while not Q.empty():\n",
    "        vertex=Q.get()\n",
    "        print(vertex,end=\"->\")\n",
    "        for u in graph[vertex]:\n",
    "            if u not in visited_vertices:\n",
    "                Q.put(u)\n",
    "                visited_vertices.update({u})\n",
    "print(\"BFS traversal of graph with source 0 is:\")\n",
    "bfs(graph,0)"
   ]
  },
  {
   "cell_type": "markdown",
   "id": "24b983aa-beba-4655-8660-f880e95c9dff",
   "metadata": {},
   "source": [
    "##Part-02:Implement Depth First Search Algorithm"
   ]
  },
  {
   "cell_type": "code",
   "execution_count": 12,
   "id": "c2cd0871-ca09-420e-9315-495782878b0c",
   "metadata": {},
   "outputs": [
    {
     "name": "stdout",
     "output_type": "stream",
     "text": [
      "{'A': ['c', 'D', 'G'], 'B': ['c', 'D', 'G'], 'C': ['A', 'D', 'F'], 'D': ['A', 'E', 'G', 'H'], 'E': ['D', 'F', 'H'], 'F': ['C', 'E'], 'G': ['A', 'D', 'H']}\n"
     ]
    }
   ],
   "source": [
    "graph1={\n",
    "         'A':['c','D','G'],\n",
    "         'B':['c','D','G'],\n",
    "         'C':['A','D','F'],\n",
    "         'D':['A','E','G','H'],\n",
    "         'E':['D','F','H'],\n",
    "         'F':['C','E'],\n",
    "         'G':['A','D','H']}\n",
    "print(graph1)"
   ]
  },
  {
   "cell_type": "code",
   "execution_count": null,
   "id": "f1fbfc0f-93cc-4e07-9e68-d4c9fb9c3c4d",
   "metadata": {},
   "outputs": [],
   "source": []
  }
 ],
 "metadata": {
  "kernelspec": {
   "display_name": "Python 3 (ipykernel)",
   "language": "python",
   "name": "python3"
  },
  "language_info": {
   "codemirror_mode": {
    "name": "ipython",
    "version": 3
   },
   "file_extension": ".py",
   "mimetype": "text/x-python",
   "name": "python",
   "nbconvert_exporter": "python",
   "pygments_lexer": "ipython3",
   "version": "3.10.11"
  }
 },
 "nbformat": 4,
 "nbformat_minor": 5
}
